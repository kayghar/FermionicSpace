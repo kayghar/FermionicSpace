{
 "cells": [
  {
   "cell_type": "code",
   "execution_count": 4,
   "metadata": {
    "collapsed": false
   },
   "outputs": [],
   "source": [
    "from importlib import reload\n",
    "\n",
    "from identical import spaces\n",
    "reload (spaces)\n",
    "\n",
    "import numpy as np\n",
    "import sympy as sp\n",
    "\n",
    "sp.init_printing (use_latex=True, wrap_line=True)\n",
    "from sympy.physics.quantum.dagger import Dagger"
   ]
  },
  {
   "cell_type": "code",
   "execution_count": 5,
   "metadata": {
    "collapsed": false
   },
   "outputs": [],
   "source": [
    "g = spaces.FermionicSpace(3)"
   ]
  },
  {
   "cell_type": "code",
   "execution_count": 6,
   "metadata": {
    "collapsed": false
   },
   "outputs": [
    {
     "data": {
      "text/latex": [
       "$$\\left [ \\left[\\begin{matrix}0\\\\0\\\\0\\end{matrix}\\right], \\quad \\left[\\begin{matrix}1\\\\0\\\\0\\end{matrix}\\right], \\quad \\left[\\begin{matrix}0\\\\1\\\\0\\end{matrix}\\right], \\quad \\left[\\begin{matrix}1\\\\1\\\\0\\end{matrix}\\right], \\quad \\left[\\begin{matrix}0\\\\0\\\\1\\end{matrix}\\right], \\quad \\left[\\begin{matrix}1\\\\0\\\\1\\end{matrix}\\right], \\quad \\left[\\begin{matrix}0\\\\1\\\\1\\end{matrix}\\right], \\quad \\left[\\begin{matrix}1\\\\1\\\\1\\end{matrix}\\right]\\right ]$$"
      ],
      "text/plain": [
       "⎡⎡0⎤, ⎡1⎤, ⎡0⎤, ⎡1⎤, ⎡0⎤, ⎡1⎤, ⎡0⎤, ⎡1⎤⎤\n",
       "⎢⎢ ⎥  ⎢ ⎥  ⎢ ⎥  ⎢ ⎥  ⎢ ⎥  ⎢ ⎥  ⎢ ⎥  ⎢ ⎥⎥\n",
       "⎢⎢0⎥  ⎢0⎥  ⎢1⎥  ⎢1⎥  ⎢0⎥  ⎢0⎥  ⎢1⎥  ⎢1⎥⎥\n",
       "⎢⎢ ⎥  ⎢ ⎥  ⎢ ⎥  ⎢ ⎥  ⎢ ⎥  ⎢ ⎥  ⎢ ⎥  ⎢ ⎥⎥\n",
       "⎣⎣0⎦  ⎣0⎦  ⎣0⎦  ⎣0⎦  ⎣1⎦  ⎣1⎦  ⎣1⎦  ⎣1⎦⎦"
      ]
     },
     "execution_count": 6,
     "metadata": {},
     "output_type": "execute_result"
    }
   ],
   "source": [
    "g.fock_basis"
   ]
  },
  {
   "cell_type": "code",
   "execution_count": 7,
   "metadata": {
    "collapsed": false
   },
   "outputs": [
    {
     "data": {
      "text/latex": [
       "$$\\left [ \\left[\\begin{matrix}0\\\\0\\\\0\\\\0\\\\0\\\\0\\\\0\\\\1.0\\end{matrix}\\right], \\quad \\left[\\begin{matrix}0\\\\0\\\\0\\\\1.0\\\\0\\\\0\\\\0\\\\0\\end{matrix}\\right], \\quad \\left[\\begin{matrix}0\\\\0\\\\0\\\\0\\\\0\\\\1.0\\\\0\\\\0\\end{matrix}\\right], \\quad \\left[\\begin{matrix}0\\\\1.0\\\\0\\\\0\\\\0\\\\0\\\\0\\\\0\\end{matrix}\\right], \\quad \\left[\\begin{matrix}0\\\\0\\\\0\\\\0\\\\0\\\\0\\\\1.0\\\\0\\end{matrix}\\right], \\quad \\left[\\begin{matrix}0\\\\0\\\\1.0\\\\0\\\\0\\\\0\\\\0\\\\0\\end{matrix}\\right], \\quad \\left[\\begin{matrix}0\\\\0\\\\0\\\\0\\\\1.0\\\\0\\\\0\\\\0\\end{matrix}\\right], \\quad \\left[\\begin{matrix}1.0\\\\0\\\\0\\\\0\\\\0\\\\0\\\\0\\\\0\\end{matrix}\\right]\\right ]$$"
      ],
      "text/plain": [
       "⎡⎡ 0 ⎤, ⎡ 0 ⎤, ⎡ 0 ⎤, ⎡ 0 ⎤, ⎡ 0 ⎤, ⎡ 0 ⎤, ⎡ 0 ⎤, ⎡1.0⎤⎤\n",
       "⎢⎢   ⎥  ⎢   ⎥  ⎢   ⎥  ⎢   ⎥  ⎢   ⎥  ⎢   ⎥  ⎢   ⎥  ⎢   ⎥⎥\n",
       "⎢⎢ 0 ⎥  ⎢ 0 ⎥  ⎢ 0 ⎥  ⎢1.0⎥  ⎢ 0 ⎥  ⎢ 0 ⎥  ⎢ 0 ⎥  ⎢ 0 ⎥⎥\n",
       "⎢⎢   ⎥  ⎢   ⎥  ⎢   ⎥  ⎢   ⎥  ⎢   ⎥  ⎢   ⎥  ⎢   ⎥  ⎢   ⎥⎥\n",
       "⎢⎢ 0 ⎥  ⎢ 0 ⎥  ⎢ 0 ⎥  ⎢ 0 ⎥  ⎢ 0 ⎥  ⎢1.0⎥  ⎢ 0 ⎥  ⎢ 0 ⎥⎥\n",
       "⎢⎢   ⎥  ⎢   ⎥  ⎢   ⎥  ⎢   ⎥  ⎢   ⎥  ⎢   ⎥  ⎢   ⎥  ⎢   ⎥⎥\n",
       "⎢⎢ 0 ⎥  ⎢1.0⎥  ⎢ 0 ⎥  ⎢ 0 ⎥  ⎢ 0 ⎥  ⎢ 0 ⎥  ⎢ 0 ⎥  ⎢ 0 ⎥⎥\n",
       "⎢⎢   ⎥  ⎢   ⎥  ⎢   ⎥  ⎢   ⎥  ⎢   ⎥  ⎢   ⎥  ⎢   ⎥  ⎢   ⎥⎥\n",
       "⎢⎢ 0 ⎥  ⎢ 0 ⎥  ⎢ 0 ⎥  ⎢ 0 ⎥  ⎢ 0 ⎥  ⎢ 0 ⎥  ⎢1.0⎥  ⎢ 0 ⎥⎥\n",
       "⎢⎢   ⎥  ⎢   ⎥  ⎢   ⎥  ⎢   ⎥  ⎢   ⎥  ⎢   ⎥  ⎢   ⎥  ⎢   ⎥⎥\n",
       "⎢⎢ 0 ⎥  ⎢ 0 ⎥  ⎢1.0⎥  ⎢ 0 ⎥  ⎢ 0 ⎥  ⎢ 0 ⎥  ⎢ 0 ⎥  ⎢ 0 ⎥⎥\n",
       "⎢⎢   ⎥  ⎢   ⎥  ⎢   ⎥  ⎢   ⎥  ⎢   ⎥  ⎢   ⎥  ⎢   ⎥  ⎢   ⎥⎥\n",
       "⎢⎢ 0 ⎥  ⎢ 0 ⎥  ⎢ 0 ⎥  ⎢ 0 ⎥  ⎢1.0⎥  ⎢ 0 ⎥  ⎢ 0 ⎥  ⎢ 0 ⎥⎥\n",
       "⎢⎢   ⎥  ⎢   ⎥  ⎢   ⎥  ⎢   ⎥  ⎢   ⎥  ⎢   ⎥  ⎢   ⎥  ⎢   ⎥⎥\n",
       "⎣⎣1.0⎦  ⎣ 0 ⎦  ⎣ 0 ⎦  ⎣ 0 ⎦  ⎣ 0 ⎦  ⎣ 0 ⎦  ⎣ 0 ⎦  ⎣ 0 ⎦⎦"
      ]
     },
     "execution_count": 7,
     "metadata": {},
     "output_type": "execute_result"
    }
   ],
   "source": [
    "g.basis"
   ]
  },
  {
   "cell_type": "code",
   "execution_count": 8,
   "metadata": {
    "collapsed": false
   },
   "outputs": [
    {
     "data": {
      "text/latex": [
       "$$\\left [ \\left[\\begin{matrix}1.0\\\\0\\\\0\\\\0\\\\0\\\\0\\\\0\\\\0\\end{matrix}\\right], \\quad \\left[\\begin{matrix}0\\\\0\\\\0\\\\0\\\\1.0\\\\0\\\\0\\\\0\\end{matrix}\\right], \\quad \\left[\\begin{matrix}0\\\\0\\\\1.0\\\\0\\\\0\\\\0\\\\0\\\\0\\end{matrix}\\right], \\quad \\left[\\begin{matrix}0\\\\0\\\\0\\\\0\\\\0\\\\0\\\\1.0\\\\0\\end{matrix}\\right], \\quad \\left[\\begin{matrix}0\\\\1.0\\\\0\\\\0\\\\0\\\\0\\\\0\\\\0\\end{matrix}\\right], \\quad \\left[\\begin{matrix}0\\\\0\\\\0\\\\0\\\\0\\\\1.0\\\\0\\\\0\\end{matrix}\\right], \\quad \\left[\\begin{matrix}0\\\\0\\\\0\\\\1.0\\\\0\\\\0\\\\0\\\\0\\end{matrix}\\right], \\quad \\left[\\begin{matrix}0\\\\0\\\\0\\\\0\\\\0\\\\0\\\\0\\\\1.0\\end{matrix}\\right]\\right ]$$"
      ],
      "text/plain": [
       "⎡⎡1.0⎤, ⎡ 0 ⎤, ⎡ 0 ⎤, ⎡ 0 ⎤, ⎡ 0 ⎤, ⎡ 0 ⎤, ⎡ 0 ⎤, ⎡ 0 ⎤⎤\n",
       "⎢⎢   ⎥  ⎢   ⎥  ⎢   ⎥  ⎢   ⎥  ⎢   ⎥  ⎢   ⎥  ⎢   ⎥  ⎢   ⎥⎥\n",
       "⎢⎢ 0 ⎥  ⎢ 0 ⎥  ⎢ 0 ⎥  ⎢ 0 ⎥  ⎢1.0⎥  ⎢ 0 ⎥  ⎢ 0 ⎥  ⎢ 0 ⎥⎥\n",
       "⎢⎢   ⎥  ⎢   ⎥  ⎢   ⎥  ⎢   ⎥  ⎢   ⎥  ⎢   ⎥  ⎢   ⎥  ⎢   ⎥⎥\n",
       "⎢⎢ 0 ⎥  ⎢ 0 ⎥  ⎢1.0⎥  ⎢ 0 ⎥  ⎢ 0 ⎥  ⎢ 0 ⎥  ⎢ 0 ⎥  ⎢ 0 ⎥⎥\n",
       "⎢⎢   ⎥  ⎢   ⎥  ⎢   ⎥  ⎢   ⎥  ⎢   ⎥  ⎢   ⎥  ⎢   ⎥  ⎢   ⎥⎥\n",
       "⎢⎢ 0 ⎥  ⎢ 0 ⎥  ⎢ 0 ⎥  ⎢ 0 ⎥  ⎢ 0 ⎥  ⎢ 0 ⎥  ⎢1.0⎥  ⎢ 0 ⎥⎥\n",
       "⎢⎢   ⎥  ⎢   ⎥  ⎢   ⎥  ⎢   ⎥  ⎢   ⎥  ⎢   ⎥  ⎢   ⎥  ⎢   ⎥⎥\n",
       "⎢⎢ 0 ⎥  ⎢1.0⎥  ⎢ 0 ⎥  ⎢ 0 ⎥  ⎢ 0 ⎥  ⎢ 0 ⎥  ⎢ 0 ⎥  ⎢ 0 ⎥⎥\n",
       "⎢⎢   ⎥  ⎢   ⎥  ⎢   ⎥  ⎢   ⎥  ⎢   ⎥  ⎢   ⎥  ⎢   ⎥  ⎢   ⎥⎥\n",
       "⎢⎢ 0 ⎥  ⎢ 0 ⎥  ⎢ 0 ⎥  ⎢ 0 ⎥  ⎢ 0 ⎥  ⎢1.0⎥  ⎢ 0 ⎥  ⎢ 0 ⎥⎥\n",
       "⎢⎢   ⎥  ⎢   ⎥  ⎢   ⎥  ⎢   ⎥  ⎢   ⎥  ⎢   ⎥  ⎢   ⎥  ⎢   ⎥⎥\n",
       "⎢⎢ 0 ⎥  ⎢ 0 ⎥  ⎢ 0 ⎥  ⎢1.0⎥  ⎢ 0 ⎥  ⎢ 0 ⎥  ⎢ 0 ⎥  ⎢ 0 ⎥⎥\n",
       "⎢⎢   ⎥  ⎢   ⎥  ⎢   ⎥  ⎢   ⎥  ⎢   ⎥  ⎢   ⎥  ⎢   ⎥  ⎢   ⎥⎥\n",
       "⎣⎣ 0 ⎦  ⎣ 0 ⎦  ⎣ 0 ⎦  ⎣ 0 ⎦  ⎣ 0 ⎦  ⎣ 0 ⎦  ⎣ 0 ⎦  ⎣1.0⎦⎦"
      ]
     },
     "execution_count": 8,
     "metadata": {},
     "output_type": "execute_result"
    }
   ],
   "source": [
    "g.qT_basis"
   ]
  },
  {
   "cell_type": "code",
   "execution_count": 9,
   "metadata": {
    "collapsed": false
   },
   "outputs": [
    {
     "data": {
      "text/plain": [
       "array([[[ 0.,  0.,  0.,  0.,  1.,  0.,  0.,  0.],\n",
       "        [ 0.,  0.,  0.,  0.,  0., -1.,  0.,  0.],\n",
       "        [ 0.,  0.,  0.,  0.,  0.,  0., -1.,  0.],\n",
       "        [ 0.,  0.,  0.,  0.,  0.,  0.,  0.,  1.],\n",
       "        [ 0.,  0.,  0.,  0.,  0.,  0.,  0.,  0.],\n",
       "        [ 0.,  0.,  0.,  0.,  0.,  0.,  0.,  0.],\n",
       "        [ 0.,  0.,  0.,  0.,  0.,  0.,  0.,  0.],\n",
       "        [ 0.,  0.,  0.,  0.,  0.,  0.,  0.,  0.]],\n",
       "\n",
       "       [[ 0.,  0.,  1.,  0.,  0.,  0.,  0.,  0.],\n",
       "        [ 0.,  0.,  0., -1.,  0.,  0.,  0.,  0.],\n",
       "        [ 0.,  0.,  0.,  0.,  0.,  0.,  0.,  0.],\n",
       "        [ 0.,  0.,  0.,  0.,  0.,  0.,  0.,  0.],\n",
       "        [ 0.,  0.,  0.,  0.,  0.,  0.,  1.,  0.],\n",
       "        [ 0.,  0.,  0.,  0.,  0.,  0.,  0., -1.],\n",
       "        [ 0.,  0.,  0.,  0.,  0.,  0.,  0.,  0.],\n",
       "        [ 0.,  0.,  0.,  0.,  0.,  0.,  0.,  0.]],\n",
       "\n",
       "       [[ 0.,  1.,  0.,  0.,  0.,  0.,  0.,  0.],\n",
       "        [ 0.,  0.,  0.,  0.,  0.,  0.,  0.,  0.],\n",
       "        [ 0.,  0.,  0.,  1.,  0.,  0.,  0.,  0.],\n",
       "        [ 0.,  0.,  0.,  0.,  0.,  0.,  0.,  0.],\n",
       "        [ 0.,  0.,  0.,  0.,  0.,  1.,  0.,  0.],\n",
       "        [ 0.,  0.,  0.,  0.,  0.,  0.,  0.,  0.],\n",
       "        [ 0.,  0.,  0.,  0.,  0.,  0.,  0.,  1.],\n",
       "        [ 0.,  0.,  0.,  0.,  0.,  0.,  0.,  0.]]])"
      ]
     },
     "execution_count": 9,
     "metadata": {},
     "output_type": "execute_result"
    }
   ],
   "source": [
    "g.nC"
   ]
  },
  {
   "cell_type": "code",
   "execution_count": 45,
   "metadata": {
    "collapsed": false
   },
   "outputs": [],
   "source": [
    "u0, v0 = sp.symbols('u_0 v_0', complex = True)\n",
    "u1, v1 = sp.symbols('u_1 v_1', complex = True)"
   ]
  },
  {
   "cell_type": "code",
   "execution_count": 46,
   "metadata": {
    "collapsed": false
   },
   "outputs": [],
   "source": [
    "g0 = u0*g.C[0]+v0*g.A[0]\n",
    "g1 = u1*g.C[1]+v1*g.A[1]"
   ]
  },
  {
   "cell_type": "code",
   "execution_count": 60,
   "metadata": {
    "collapsed": true
   },
   "outputs": [],
   "source": [
    "g0D = Dagger(g0)\n",
    "g1D = Dagger(g1)"
   ]
  },
  {
   "cell_type": "code",
   "execution_count": 61,
   "metadata": {
    "collapsed": false
   },
   "outputs": [
    {
     "data": {
      "text/latex": [
       "$$\\left[\\begin{matrix}0 & 0 & 0 & \\overline{v_{0}} \\overline{v_{1}}\\\\0 & 0 & - \\overline{u_{1}} \\overline{v_{0}} & 0\\\\0 & \\overline{u_{0}} \\overline{v_{1}} & 0 & 0\\\\- \\overline{u_{0}} \\overline{u_{1}} & 0 & 0 & 0\\end{matrix}\\right]$$"
      ],
      "text/plain": [
       "⎡                       __ __⎤\n",
       "⎢  0       0      0     v₀⋅v₁⎥\n",
       "⎢                            ⎥\n",
       "⎢                __ __       ⎥\n",
       "⎢  0       0    -u₁⋅v₀    0  ⎥\n",
       "⎢                            ⎥\n",
       "⎢        __ __               ⎥\n",
       "⎢  0     u₀⋅v₁    0       0  ⎥\n",
       "⎢                            ⎥\n",
       "⎢ __ __                      ⎥\n",
       "⎣-u₀⋅u₁    0      0       0  ⎦"
      ]
     },
     "execution_count": 61,
     "metadata": {},
     "output_type": "execute_result"
    }
   ],
   "source": [
    "Dagger(g0)*Dagger(g1)"
   ]
  },
  {
   "cell_type": "code",
   "execution_count": 62,
   "metadata": {
    "collapsed": false
   },
   "outputs": [
    {
     "data": {
      "text/latex": [
       "$$\\left[\\begin{matrix}0 & 0 & 0 & 0\\\\0 & 0 & -1 & 0\\\\0 & 0 & 0 & 0\\\\0 & 0 & 0 & 0\\end{matrix}\\right]$$"
      ],
      "text/plain": [
       "⎡0  0  0   0⎤\n",
       "⎢           ⎥\n",
       "⎢0  0  -1  0⎥\n",
       "⎢           ⎥\n",
       "⎢0  0  0   0⎥\n",
       "⎢           ⎥\n",
       "⎣0  0  0   0⎦"
      ]
     },
     "execution_count": 62,
     "metadata": {},
     "output_type": "execute_result"
    }
   ],
   "source": [
    "g.C[0]*g.A[1]"
   ]
  },
  {
   "cell_type": "code",
   "execution_count": 63,
   "metadata": {
    "collapsed": false
   },
   "outputs": [
    {
     "data": {
      "text/latex": [
       "$$\\left[\\begin{matrix}0 & 0 & 0 & 0\\\\0 & 0 & 1 & 0\\\\0 & 0 & 0 & 0\\\\0 & 0 & 0 & 0\\end{matrix}\\right]$$"
      ],
      "text/plain": [
       "⎡0  0  0  0⎤\n",
       "⎢          ⎥\n",
       "⎢0  0  1  0⎥\n",
       "⎢          ⎥\n",
       "⎢0  0  0  0⎥\n",
       "⎢          ⎥\n",
       "⎣0  0  0  0⎦"
      ]
     },
     "execution_count": 63,
     "metadata": {},
     "output_type": "execute_result"
    }
   ],
   "source": [
    "g.A[1]*g.C[0]"
   ]
  },
  {
   "cell_type": "code",
   "execution_count": 64,
   "metadata": {
    "collapsed": false
   },
   "outputs": [
    {
     "data": {
      "text/latex": [
       "$$\\left[\\begin{matrix}\\overline{u_{0}} \\overline{v_{0}} & 0 & 0 & 0\\\\0 & \\overline{u_{0}} \\overline{v_{0}} & 0 & 0\\\\0 & 0 & \\overline{u_{0}} \\overline{v_{0}} & 0\\\\0 & 0 & 0 & \\overline{u_{0}} \\overline{v_{0}}\\end{matrix}\\right]$$"
      ],
      "text/plain": [
       "⎡__ __                     ⎤\n",
       "⎢u₀⋅v₀    0      0      0  ⎥\n",
       "⎢                          ⎥\n",
       "⎢       __ __              ⎥\n",
       "⎢  0    u₀⋅v₀    0      0  ⎥\n",
       "⎢                          ⎥\n",
       "⎢              __ __       ⎥\n",
       "⎢  0      0    u₀⋅v₀    0  ⎥\n",
       "⎢                          ⎥\n",
       "⎢                     __ __⎥\n",
       "⎣  0      0      0    u₀⋅v₀⎦"
      ]
     },
     "execution_count": 64,
     "metadata": {},
     "output_type": "execute_result"
    }
   ],
   "source": [
    "g0D*g0D"
   ]
  },
  {
   "cell_type": "code",
   "execution_count": 89,
   "metadata": {
    "collapsed": false
   },
   "outputs": [],
   "source": [
    "c, d = sp.symbols('c d', commuatavie=False)"
   ]
  },
  {
   "cell_type": "code",
   "execution_count": 76,
   "metadata": {
    "collapsed": false
   },
   "outputs": [],
   "source": [
    "g0 = u0*c + v0*Dagger(d)"
   ]
  },
  {
   "cell_type": "code",
   "execution_count": 81,
   "metadata": {
    "collapsed": false
   },
   "outputs": [
    {
     "data": {
      "image/png": "[encoded data removed]",
      "text/latex": [
       "$$c^{2} u_{0}^{2} + 2 c u_{0} v_{0} d^{\\dagger} + v_{0}^{2} \\left(d^{\\dagger}\\right)^{2}$$"
      ],
      "text/plain": [
       "                                2\n",
       " 2   2              †     2 ⎛ †⎞ \n",
       "c ⋅u₀  + 2⋅c⋅u₀⋅v₀⋅d  + v₀ ⋅⎝d ⎠ "
      ]
     },
     "execution_count": 81,
     "metadata": {},
     "output_type": "execute_result"
    }
   ],
   "source": [
    "sp.expand(g0*g0)"
   ]
  },
  {
   "cell_type": "code",
   "execution_count": 91,
   "metadata": {
    "collapsed": false
   },
   "outputs": [
    {
     "data": {
      "image/png": "[encoded data removed]",
      "text/latex": [
       "$$0$$"
      ],
      "text/plain": [
       "0"
      ]
     },
     "execution_count": 91,
     "metadata": {},
     "output_type": "execute_result"
    }
   ],
   "source": [
    "c*d - d*c"
   ]
  },
  {
   "cell_type": "code",
   "execution_count": 95,
   "metadata": {
    "collapsed": false
   },
   "outputs": [
    {
     "data": {
      "text/plain": [
       "{'commuatavie': False, 'commutative': True}"
      ]
     },
     "execution_count": 95,
     "metadata": {},
     "output_type": "execute_result"
    }
   ],
   "source": [
    "d.assumptions0"
   ]
  },
  {
   "cell_type": "code",
   "execution_count": null,
   "metadata": {
    "collapsed": true
   },
   "outputs": [],
   "source": []
  }
 ],
 "metadata": {
  "kernelspec": {
   "display_name": "Python 3",
   "language": "python",
   "name": "python3"
  },
  "language_info": {
   "codemirror_mode": {
    "name": "ipython",
    "version": 3
   },
   "file_extension": ".py",
   "mimetype": "text/x-python",
   "name": "python",
   "nbconvert_exporter": "python",
   "pygments_lexer": "ipython3",
   "version": "3.5.2"
  }
 },
 "nbformat": 4,
 "nbformat_minor": 0
}
