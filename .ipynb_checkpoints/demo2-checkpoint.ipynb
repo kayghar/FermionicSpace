{
 "metadata": {
  "name": "",
  "signature": "sha256:120120ecb6f38d6fb9d6e5cc40765a9778e735fc8c85d32d77f96b8f46790e6f"
 },
 "nbformat": 3,
 "nbformat_minor": 0,
 "worksheets": [
  {
   "cells": [
    {
     "cell_type": "code",
     "collapsed": false,
     "input": [
      "import identical.spaces\n",
      "import sympy as sp\n",
      "sp.init_printing (use_latex=True, wrap_line=True)\n",
      "\n",
      "import numpy as np\n"
     ],
     "language": "python",
     "metadata": {},
     "outputs": [],
     "prompt_number": 1
    },
    {
     "cell_type": "code",
     "collapsed": false,
     "input": [
      "g = identical.spaces.FermionicSpace(3)"
     ],
     "language": "python",
     "metadata": {},
     "outputs": [],
     "prompt_number": 2
    },
    {
     "cell_type": "code",
     "collapsed": true,
     "input": [
      "g.fock_basis"
     ],
     "language": "python",
     "metadata": {},
     "outputs": [
      {
       "latex": [
        "$$\\left [ \\left[\\begin{matrix}0\\\\0\\\\0\\end{matrix}\\right], \\quad \\left[\\begin{matrix}1\\\\0\\\\0\\end{matrix}\\right], \\quad \\left[\\begin{matrix}0\\\\1\\\\0\\end{matrix}\\right], \\quad \\left[\\begin{matrix}1\\\\1\\\\0\\end{matrix}\\right], \\quad \\left[\\begin{matrix}0\\\\0\\\\1\\end{matrix}\\right], \\quad \\left[\\begin{matrix}1\\\\0\\\\1\\end{matrix}\\right], \\quad \\left[\\begin{matrix}0\\\\1\\\\1\\end{matrix}\\right], \\quad \\left[\\begin{matrix}1\\\\1\\\\1\\end{matrix}\\right]\\right ]$$"
       ],
       "metadata": {},
       "output_type": "pyout",
       "png": "[encoded data removed]",
       "prompt_number": 3,
       "text": [
        "\u23a1\u23a10\u23a4, \u23a11\u23a4, \u23a10\u23a4, \u23a11\u23a4, \u23a10\u23a4, \u23a11\u23a4, \u23a10\u23a4, \u23a11\u23a4\u23a4\n",
        "\u23a2\u23a2 \u23a5  \u23a2 \u23a5  \u23a2 \u23a5  \u23a2 \u23a5  \u23a2 \u23a5  \u23a2 \u23a5  \u23a2 \u23a5  \u23a2 \u23a5\u23a5\n",
        "\u23a2\u23a20\u23a5  \u23a20\u23a5  \u23a21\u23a5  \u23a21\u23a5  \u23a20\u23a5  \u23a20\u23a5  \u23a21\u23a5  \u23a21\u23a5\u23a5\n",
        "\u23a2\u23a2 \u23a5  \u23a2 \u23a5  \u23a2 \u23a5  \u23a2 \u23a5  \u23a2 \u23a5  \u23a2 \u23a5  \u23a2 \u23a5  \u23a2 \u23a5\u23a5\n",
        "\u23a3\u23a30\u23a6  \u23a30\u23a6  \u23a30\u23a6  \u23a30\u23a6  \u23a31\u23a6  \u23a31\u23a6  \u23a31\u23a6  \u23a31\u23a6\u23a6"
       ]
      }
     ],
     "prompt_number": 3
    },
    {
     "cell_type": "code",
     "collapsed": false,
     "input": [
      "g.basis"
     ],
     "language": "python",
     "metadata": {},
     "outputs": [
      {
       "latex": [
        "$$\\left [ \\left[\\begin{matrix}0\\\\0\\\\0\\\\0\\\\0\\\\0\\\\0\\\\1\\end{matrix}\\right], \\quad \\left[\\begin{matrix}0\\\\0\\\\0\\\\0\\\\0\\\\0\\\\1\\\\0\\end{matrix}\\right], \\quad \\left[\\begin{matrix}0\\\\0\\\\0\\\\0\\\\0\\\\1\\\\0\\\\0\\end{matrix}\\right], \\quad \\left[\\begin{matrix}0\\\\0\\\\0\\\\0\\\\1\\\\0\\\\0\\\\0\\end{matrix}\\right], \\quad \\left[\\begin{matrix}0\\\\0\\\\0\\\\1\\\\0\\\\0\\\\0\\\\0\\end{matrix}\\right], \\quad \\left[\\begin{matrix}0\\\\0\\\\1\\\\0\\\\0\\\\0\\\\0\\\\0\\end{matrix}\\right], \\quad \\left[\\begin{matrix}0\\\\1\\\\0\\\\0\\\\0\\\\0\\\\0\\\\0\\end{matrix}\\right], \\quad \\left[\\begin{matrix}1\\\\0\\\\0\\\\0\\\\0\\\\0\\\\0\\\\0\\end{matrix}\\right]\\right ]$$"
       ],
       "metadata": {},
       "output_type": "pyout",
       "png": "[encoded data removed]",
       "prompt_number": 4,
       "text": [
        "\u23a1\u23a10\u23a4, \u23a10\u23a4, \u23a10\u23a4, \u23a10\u23a4, \u23a10\u23a4, \u23a10\u23a4, \u23a10\u23a4, \u23a11\u23a4\u23a4\n",
        "\u23a2\u23a2 \u23a5  \u23a2 \u23a5  \u23a2 \u23a5  \u23a2 \u23a5  \u23a2 \u23a5  \u23a2 \u23a5  \u23a2 \u23a5  \u23a2 \u23a5\u23a5\n",
        "\u23a2\u23a20\u23a5  \u23a20\u23a5  \u23a20\u23a5  \u23a20\u23a5  \u23a20\u23a5  \u23a20\u23a5  \u23a21\u23a5  \u23a20\u23a5\u23a5\n",
        "\u23a2\u23a2 \u23a5  \u23a2 \u23a5  \u23a2 \u23a5  \u23a2 \u23a5  \u23a2 \u23a5  \u23a2 \u23a5  \u23a2 \u23a5  \u23a2 \u23a5\u23a5\n",
        "\u23a2\u23a20\u23a5  \u23a20\u23a5  \u23a20\u23a5  \u23a20\u23a5  \u23a20\u23a5  \u23a21\u23a5  \u23a20\u23a5  \u23a20\u23a5\u23a5\n",
        "\u23a2\u23a2 \u23a5  \u23a2 \u23a5  \u23a2 \u23a5  \u23a2 \u23a5  \u23a2 \u23a5  \u23a2 \u23a5  \u23a2 \u23a5  \u23a2 \u23a5\u23a5\n",
        "\u23a2\u23a20\u23a5  \u23a20\u23a5  \u23a20\u23a5  \u23a20\u23a5  \u23a21\u23a5  \u23a20\u23a5  \u23a20\u23a5  \u23a20\u23a5\u23a5\n",
        "\u23a2\u23a2 \u23a5  \u23a2 \u23a5  \u23a2 \u23a5  \u23a2 \u23a5  \u23a2 \u23a5  \u23a2 \u23a5  \u23a2 \u23a5  \u23a2 \u23a5\u23a5\n",
        "\u23a2\u23a20\u23a5  \u23a20\u23a5  \u23a20\u23a5  \u23a21\u23a5  \u23a20\u23a5  \u23a20\u23a5  \u23a20\u23a5  \u23a20\u23a5\u23a5\n",
        "\u23a2\u23a2 \u23a5  \u23a2 \u23a5  \u23a2 \u23a5  \u23a2 \u23a5  \u23a2 \u23a5  \u23a2 \u23a5  \u23a2 \u23a5  \u23a2 \u23a5\u23a5\n",
        "\u23a2\u23a20\u23a5  \u23a20\u23a5  \u23a21\u23a5  \u23a20\u23a5  \u23a20\u23a5  \u23a20\u23a5  \u23a20\u23a5  \u23a20\u23a5\u23a5\n",
        "\u23a2\u23a2 \u23a5  \u23a2 \u23a5  \u23a2 \u23a5  \u23a2 \u23a5  \u23a2 \u23a5  \u23a2 \u23a5  \u23a2 \u23a5  \u23a2 \u23a5\u23a5\n",
        "\u23a2\u23a20\u23a5  \u23a21\u23a5  \u23a20\u23a5  \u23a20\u23a5  \u23a20\u23a5  \u23a20\u23a5  \u23a20\u23a5  \u23a20\u23a5\u23a5\n",
        "\u23a2\u23a2 \u23a5  \u23a2 \u23a5  \u23a2 \u23a5  \u23a2 \u23a5  \u23a2 \u23a5  \u23a2 \u23a5  \u23a2 \u23a5  \u23a2 \u23a5\u23a5\n",
        "\u23a3\u23a31\u23a6  \u23a30\u23a6  \u23a30\u23a6  \u23a30\u23a6  \u23a30\u23a6  \u23a30\u23a6  \u23a30\u23a6  \u23a30\u23a6\u23a6"
       ]
      }
     ],
     "prompt_number": 4
    },
    {
     "cell_type": "code",
     "collapsed": false,
     "input": [
      "g.qT_basis"
     ],
     "language": "python",
     "metadata": {},
     "outputs": [
      {
       "latex": [
        "$$\\left [ \\left[\\begin{matrix}1\\\\0\\\\0\\\\0\\\\0\\\\0\\\\0\\\\0\\end{matrix}\\right], \\quad \\left[\\begin{matrix}0\\\\1\\\\0\\\\0\\\\0\\\\0\\\\0\\\\0\\end{matrix}\\right], \\quad \\left[\\begin{matrix}0\\\\0\\\\1\\\\0\\\\0\\\\0\\\\0\\\\0\\end{matrix}\\right], \\quad \\left[\\begin{matrix}0\\\\0\\\\0\\\\1\\\\0\\\\0\\\\0\\\\0\\end{matrix}\\right], \\quad \\left[\\begin{matrix}0\\\\0\\\\0\\\\0\\\\1\\\\0\\\\0\\\\0\\end{matrix}\\right], \\quad \\left[\\begin{matrix}0\\\\0\\\\0\\\\0\\\\0\\\\1\\\\0\\\\0\\end{matrix}\\right], \\quad \\left[\\begin{matrix}0\\\\0\\\\0\\\\0\\\\0\\\\0\\\\1\\\\0\\end{matrix}\\right], \\quad \\left[\\begin{matrix}0\\\\0\\\\0\\\\0\\\\0\\\\0\\\\0\\\\1\\end{matrix}\\right]\\right ]$$"
       ],
       "metadata": {},
       "output_type": "pyout",
       "png": "[encoded data removed]",
       "prompt_number": 5,
       "text": [
        "\u23a1\u23a11\u23a4, \u23a10\u23a4, \u23a10\u23a4, \u23a10\u23a4, \u23a10\u23a4, \u23a10\u23a4, \u23a10\u23a4, \u23a10\u23a4\u23a4\n",
        "\u23a2\u23a2 \u23a5  \u23a2 \u23a5  \u23a2 \u23a5  \u23a2 \u23a5  \u23a2 \u23a5  \u23a2 \u23a5  \u23a2 \u23a5  \u23a2 \u23a5\u23a5\n",
        "\u23a2\u23a20\u23a5  \u23a21\u23a5  \u23a20\u23a5  \u23a20\u23a5  \u23a20\u23a5  \u23a20\u23a5  \u23a20\u23a5  \u23a20\u23a5\u23a5\n",
        "\u23a2\u23a2 \u23a5  \u23a2 \u23a5  \u23a2 \u23a5  \u23a2 \u23a5  \u23a2 \u23a5  \u23a2 \u23a5  \u23a2 \u23a5  \u23a2 \u23a5\u23a5\n",
        "\u23a2\u23a20\u23a5  \u23a20\u23a5  \u23a21\u23a5  \u23a20\u23a5  \u23a20\u23a5  \u23a20\u23a5  \u23a20\u23a5  \u23a20\u23a5\u23a5\n",
        "\u23a2\u23a2 \u23a5  \u23a2 \u23a5  \u23a2 \u23a5  \u23a2 \u23a5  \u23a2 \u23a5  \u23a2 \u23a5  \u23a2 \u23a5  \u23a2 \u23a5\u23a5\n",
        "\u23a2\u23a20\u23a5  \u23a20\u23a5  \u23a20\u23a5  \u23a21\u23a5  \u23a20\u23a5  \u23a20\u23a5  \u23a20\u23a5  \u23a20\u23a5\u23a5\n",
        "\u23a2\u23a2 \u23a5  \u23a2 \u23a5  \u23a2 \u23a5  \u23a2 \u23a5  \u23a2 \u23a5  \u23a2 \u23a5  \u23a2 \u23a5  \u23a2 \u23a5\u23a5\n",
        "\u23a2\u23a20\u23a5  \u23a20\u23a5  \u23a20\u23a5  \u23a20\u23a5  \u23a21\u23a5  \u23a20\u23a5  \u23a20\u23a5  \u23a20\u23a5\u23a5\n",
        "\u23a2\u23a2 \u23a5  \u23a2 \u23a5  \u23a2 \u23a5  \u23a2 \u23a5  \u23a2 \u23a5  \u23a2 \u23a5  \u23a2 \u23a5  \u23a2 \u23a5\u23a5\n",
        "\u23a2\u23a20\u23a5  \u23a20\u23a5  \u23a20\u23a5  \u23a20\u23a5  \u23a20\u23a5  \u23a21\u23a5  \u23a20\u23a5  \u23a20\u23a5\u23a5\n",
        "\u23a2\u23a2 \u23a5  \u23a2 \u23a5  \u23a2 \u23a5  \u23a2 \u23a5  \u23a2 \u23a5  \u23a2 \u23a5  \u23a2 \u23a5  \u23a2 \u23a5\u23a5\n",
        "\u23a2\u23a20\u23a5  \u23a20\u23a5  \u23a20\u23a5  \u23a20\u23a5  \u23a20\u23a5  \u23a20\u23a5  \u23a21\u23a5  \u23a20\u23a5\u23a5\n",
        "\u23a2\u23a2 \u23a5  \u23a2 \u23a5  \u23a2 \u23a5  \u23a2 \u23a5  \u23a2 \u23a5  \u23a2 \u23a5  \u23a2 \u23a5  \u23a2 \u23a5\u23a5\n",
        "\u23a3\u23a30\u23a6  \u23a30\u23a6  \u23a30\u23a6  \u23a30\u23a6  \u23a30\u23a6  \u23a30\u23a6  \u23a30\u23a6  \u23a31\u23a6\u23a6"
       ]
      }
     ],
     "prompt_number": 5
    },
    {
     "cell_type": "code",
     "collapsed": false,
     "input": [
      "g.C"
     ],
     "language": "python",
     "metadata": {},
     "outputs": [
      {
       "latex": [
        "$$\\left [ \\left[\\begin{matrix}0 & 1 & 0 & 0 & 0 & 0 & 0 & 0\\\\0 & 0 & 0 & 0 & 0 & 0 & 0 & 0\\\\0 & 0 & 0 & 1 & 0 & 0 & 0 & 0\\\\0 & 0 & 0 & 0 & 0 & 0 & 0 & 0\\\\0 & 0 & 0 & 0 & 0 & 1 & 0 & 0\\\\0 & 0 & 0 & 0 & 0 & 0 & 0 & 0\\\\0 & 0 & 0 & 0 & 0 & 0 & 0 & 1\\\\0 & 0 & 0 & 0 & 0 & 0 & 0 & 0\\end{matrix}\\right], \\quad \\left[\\begin{matrix}0 & 0 & 1 & 0 & 0 & 0 & 0 & 0\\\\0 & 0 & 0 & -1 & 0 & 0 & 0 & 0\\\\0 & 0 & 0 & 0 & 0 & 0 & 0 & 0\\\\0 & 0 & 0 & 0 & 0 & 0 & 0 & 0\\\\0 & 0 & 0 & 0 & 0 & 0 & 1 & 0\\\\0 & 0 & 0 & 0 & 0 & 0 & 0 & -1\\\\0 & 0 & 0 & 0 & 0 & 0 & 0 & 0\\\\0 & 0 & 0 & 0 & 0 & 0 & 0 & 0\\end{matrix}\\right], \\quad \\left[\\begin{matrix}0 & 0 & 0 & 0 & 1 & 0 & 0 & 0\\\\0 & 0 & 0 & 0 & 0 & -1 & 0 & 0\\\\0 & 0 & 0 & 0 & 0 & 0 & -1 & 0\\\\0 & 0 & 0 & 0 & 0 & 0 & 0 & 1\\\\0 & 0 & 0 & 0 & 0 & 0 & 0 & 0\\\\0 & 0 & 0 & 0 & 0 & 0 & 0 & 0\\\\0 & 0 & 0 & 0 & 0 & 0 & 0 & 0\\\\0 & 0 & 0 & 0 & 0 & 0 & 0 & 0\\end{matrix}\\right]\\right ]$$"
       ],
       "metadata": {},
       "output_type": "pyout",
       "png": "[encoded data removed]",
       "prompt_number": 6,
       "text": [
        "\u23a1\u23a10  1  0  0  0  0  0  0\u23a4, \u23a10  0  1  0   0  0  0  0 \u23a4, \u23a10  0  0  0  1  0   0  \n",
        "\u23a2\u23a2                      \u23a5  \u23a2                        \u23a5  \u23a2                      \n",
        "\u23a2\u23a20  0  0  0  0  0  0  0\u23a5  \u23a20  0  0  -1  0  0  0  0 \u23a5  \u23a20  0  0  0  0  -1  0  \n",
        "\u23a2\u23a2                      \u23a5  \u23a2                        \u23a5  \u23a2                      \n",
        "\u23a2\u23a20  0  0  1  0  0  0  0\u23a5  \u23a20  0  0  0   0  0  0  0 \u23a5  \u23a20  0  0  0  0  0   -1 \n",
        "\u23a2\u23a2                      \u23a5  \u23a2                        \u23a5  \u23a2                      \n",
        "\u23a2\u23a20  0  0  0  0  0  0  0\u23a5  \u23a20  0  0  0   0  0  0  0 \u23a5  \u23a20  0  0  0  0  0   0  \n",
        "\u23a2\u23a2                      \u23a5  \u23a2                        \u23a5  \u23a2                      \n",
        "\u23a2\u23a20  0  0  0  0  1  0  0\u23a5  \u23a20  0  0  0   0  0  1  0 \u23a5  \u23a20  0  0  0  0  0   0  \n",
        "\u23a2\u23a2                      \u23a5  \u23a2                        \u23a5  \u23a2                      \n",
        "\u23a2\u23a20  0  0  0  0  0  0  0\u23a5  \u23a20  0  0  0   0  0  0  -1\u23a5  \u23a20  0  0  0  0  0   0  \n",
        "\u23a2\u23a2                      \u23a5  \u23a2                        \u23a5  \u23a2                      \n",
        "\u23a2\u23a20  0  0  0  0  0  0  1\u23a5  \u23a20  0  0  0   0  0  0  0 \u23a5  \u23a20  0  0  0  0  0   0  \n",
        "\u23a2\u23a2                      \u23a5  \u23a2                        \u23a5  \u23a2                      \n",
        "\u23a3\u23a30  0  0  0  0  0  0  0\u23a6  \u23a30  0  0  0   0  0  0  0 \u23a6  \u23a30  0  0  0  0  0   0  \n",
        "\n",
        " 0\u23a4\u23a4\n",
        "  \u23a5\u23a5\n",
        " 0\u23a5\u23a5\n",
        "  \u23a5\u23a5\n",
        " 0\u23a5\u23a5\n",
        "  \u23a5\u23a5\n",
        " 1\u23a5\u23a5\n",
        "  \u23a5\u23a5\n",
        " 0\u23a5\u23a5\n",
        "  \u23a5\u23a5\n",
        " 0\u23a5\u23a5\n",
        "  \u23a5\u23a5\n",
        " 0\u23a5\u23a5\n",
        "  \u23a5\u23a5\n",
        " 0\u23a6\u23a6"
       ]
      }
     ],
     "prompt_number": 6
    },
    {
     "cell_type": "code",
     "collapsed": false,
     "input": [
      "g.nC"
     ],
     "language": "python",
     "metadata": {},
     "outputs": [
      {
       "metadata": {},
       "output_type": "pyout",
       "prompt_number": 7,
       "text": [
        "array([[[ 0.,  1.,  0.,  0.,  0.,  0.,  0.,  0.],\n",
        "        [ 0.,  0.,  0.,  0.,  0.,  0.,  0.,  0.],\n",
        "        [ 0.,  0.,  0.,  1.,  0.,  0.,  0.,  0.],\n",
        "        [ 0.,  0.,  0.,  0.,  0.,  0.,  0.,  0.],\n",
        "        [ 0.,  0.,  0.,  0.,  0.,  1.,  0.,  0.],\n",
        "        [ 0.,  0.,  0.,  0.,  0.,  0.,  0.,  0.],\n",
        "        [ 0.,  0.,  0.,  0.,  0.,  0.,  0.,  1.],\n",
        "        [ 0.,  0.,  0.,  0.,  0.,  0.,  0.,  0.]],\n",
        "\n",
        "       [[ 0.,  0.,  1.,  0.,  0.,  0.,  0.,  0.],\n",
        "        [ 0.,  0.,  0., -1.,  0.,  0.,  0.,  0.],\n",
        "        [ 0.,  0.,  0.,  0.,  0.,  0.,  0.,  0.],\n",
        "        [ 0.,  0.,  0.,  0.,  0.,  0.,  0.,  0.],\n",
        "        [ 0.,  0.,  0.,  0.,  0.,  0.,  1.,  0.],\n",
        "        [ 0.,  0.,  0.,  0.,  0.,  0.,  0., -1.],\n",
        "        [ 0.,  0.,  0.,  0.,  0.,  0.,  0.,  0.],\n",
        "        [ 0.,  0.,  0.,  0.,  0.,  0.,  0.,  0.]],\n",
        "\n",
        "       [[ 0.,  0.,  0.,  0.,  1.,  0.,  0.,  0.],\n",
        "        [ 0.,  0.,  0.,  0.,  0., -1.,  0.,  0.],\n",
        "        [ 0.,  0.,  0.,  0.,  0.,  0., -1.,  0.],\n",
        "        [ 0.,  0.,  0.,  0.,  0.,  0.,  0.,  1.],\n",
        "        [ 0.,  0.,  0.,  0.,  0.,  0.,  0.,  0.],\n",
        "        [ 0.,  0.,  0.,  0.,  0.,  0.,  0.,  0.],\n",
        "        [ 0.,  0.,  0.,  0.,  0.,  0.,  0.,  0.],\n",
        "        [ 0.,  0.,  0.,  0.,  0.,  0.,  0.,  0.]]])"
       ]
      }
     ],
     "prompt_number": 7
    },
    {
     "cell_type": "code",
     "collapsed": false,
     "input": [
      "g.A"
     ],
     "language": "python",
     "metadata": {},
     "outputs": [
      {
       "latex": [
        "$$\\left [ \\left[\\begin{matrix}0 & 0 & 0 & 0 & 0 & 0 & 0 & 0\\\\1 & 0 & 0 & 0 & 0 & 0 & 0 & 0\\\\0 & 0 & 0 & 0 & 0 & 0 & 0 & 0\\\\0 & 0 & 1 & 0 & 0 & 0 & 0 & 0\\\\0 & 0 & 0 & 0 & 0 & 0 & 0 & 0\\\\0 & 0 & 0 & 0 & 1 & 0 & 0 & 0\\\\0 & 0 & 0 & 0 & 0 & 0 & 0 & 0\\\\0 & 0 & 0 & 0 & 0 & 0 & 1 & 0\\end{matrix}\\right], \\quad \\left[\\begin{matrix}0 & 0 & 0 & 0 & 0 & 0 & 0 & 0\\\\0 & 0 & 0 & 0 & 0 & 0 & 0 & 0\\\\1 & 0 & 0 & 0 & 0 & 0 & 0 & 0\\\\0 & -1 & 0 & 0 & 0 & 0 & 0 & 0\\\\0 & 0 & 0 & 0 & 0 & 0 & 0 & 0\\\\0 & 0 & 0 & 0 & 0 & 0 & 0 & 0\\\\0 & 0 & 0 & 0 & 1 & 0 & 0 & 0\\\\0 & 0 & 0 & 0 & 0 & -1 & 0 & 0\\end{matrix}\\right], \\quad \\left[\\begin{matrix}0 & 0 & 0 & 0 & 0 & 0 & 0 & 0\\\\0 & 0 & 0 & 0 & 0 & 0 & 0 & 0\\\\0 & 0 & 0 & 0 & 0 & 0 & 0 & 0\\\\0 & 0 & 0 & 0 & 0 & 0 & 0 & 0\\\\1 & 0 & 0 & 0 & 0 & 0 & 0 & 0\\\\0 & -1 & 0 & 0 & 0 & 0 & 0 & 0\\\\0 & 0 & -1 & 0 & 0 & 0 & 0 & 0\\\\0 & 0 & 0 & 1 & 0 & 0 & 0 & 0\\end{matrix}\\right]\\right ]$$"
       ],
       "metadata": {},
       "output_type": "pyout",
       "png": "[encoded data removed]",
       "prompt_number": 8,
       "text": [
        "\u23a1\u23a10  0  0  0  0  0  0  0\u23a4, \u23a10  0   0  0  0  0   0  0\u23a4, \u23a10  0   0   0  0  0  0 \n",
        "\u23a2\u23a2                      \u23a5  \u23a2                        \u23a5  \u23a2                      \n",
        "\u23a2\u23a21  0  0  0  0  0  0  0\u23a5  \u23a20  0   0  0  0  0   0  0\u23a5  \u23a20  0   0   0  0  0  0 \n",
        "\u23a2\u23a2                      \u23a5  \u23a2                        \u23a5  \u23a2                      \n",
        "\u23a2\u23a20  0  0  0  0  0  0  0\u23a5  \u23a21  0   0  0  0  0   0  0\u23a5  \u23a20  0   0   0  0  0  0 \n",
        "\u23a2\u23a2                      \u23a5  \u23a2                        \u23a5  \u23a2                      \n",
        "\u23a2\u23a20  0  1  0  0  0  0  0\u23a5  \u23a20  -1  0  0  0  0   0  0\u23a5  \u23a20  0   0   0  0  0  0 \n",
        "\u23a2\u23a2                      \u23a5  \u23a2                        \u23a5  \u23a2                      \n",
        "\u23a2\u23a20  0  0  0  0  0  0  0\u23a5  \u23a20  0   0  0  0  0   0  0\u23a5  \u23a21  0   0   0  0  0  0 \n",
        "\u23a2\u23a2                      \u23a5  \u23a2                        \u23a5  \u23a2                      \n",
        "\u23a2\u23a20  0  0  0  1  0  0  0\u23a5  \u23a20  0   0  0  0  0   0  0\u23a5  \u23a20  -1  0   0  0  0  0 \n",
        "\u23a2\u23a2                      \u23a5  \u23a2                        \u23a5  \u23a2                      \n",
        "\u23a2\u23a20  0  0  0  0  0  0  0\u23a5  \u23a20  0   0  0  1  0   0  0\u23a5  \u23a20  0   -1  0  0  0  0 \n",
        "\u23a2\u23a2                      \u23a5  \u23a2                        \u23a5  \u23a2                      \n",
        "\u23a3\u23a30  0  0  0  0  0  1  0\u23a6  \u23a30  0   0  0  0  -1  0  0\u23a6  \u23a30  0   0   1  0  0  0 \n",
        "\n",
        " 0\u23a4\u23a4\n",
        "  \u23a5\u23a5\n",
        " 0\u23a5\u23a5\n",
        "  \u23a5\u23a5\n",
        " 0\u23a5\u23a5\n",
        "  \u23a5\u23a5\n",
        " 0\u23a5\u23a5\n",
        "  \u23a5\u23a5\n",
        " 0\u23a5\u23a5\n",
        "  \u23a5\u23a5\n",
        " 0\u23a5\u23a5\n",
        "  \u23a5\u23a5\n",
        " 0\u23a5\u23a5\n",
        "  \u23a5\u23a5\n",
        " 0\u23a6\u23a6"
       ]
      }
     ],
     "prompt_number": 8
    },
    {
     "cell_type": "code",
     "collapsed": false,
     "input": [
      "g.nA"
     ],
     "language": "python",
     "metadata": {},
     "outputs": [
      {
       "metadata": {},
       "output_type": "pyout",
       "prompt_number": 9,
       "text": [
        "array([[[ 0.,  0.,  0.,  0.,  0.,  0.,  0.,  0.],\n",
        "        [ 1.,  0.,  0.,  0.,  0.,  0.,  0.,  0.],\n",
        "        [ 0.,  0.,  0.,  0.,  0.,  0.,  0.,  0.],\n",
        "        [ 0.,  0.,  1.,  0.,  0.,  0.,  0.,  0.],\n",
        "        [ 0.,  0.,  0.,  0.,  0.,  0.,  0.,  0.],\n",
        "        [ 0.,  0.,  0.,  0.,  1.,  0.,  0.,  0.],\n",
        "        [ 0.,  0.,  0.,  0.,  0.,  0.,  0.,  0.],\n",
        "        [ 0.,  0.,  0.,  0.,  0.,  0.,  1.,  0.]],\n",
        "\n",
        "       [[ 0.,  0.,  0.,  0.,  0.,  0.,  0.,  0.],\n",
        "        [ 0.,  0.,  0.,  0.,  0.,  0.,  0.,  0.],\n",
        "        [ 1.,  0.,  0.,  0.,  0.,  0.,  0.,  0.],\n",
        "        [ 0., -1.,  0.,  0.,  0.,  0.,  0.,  0.],\n",
        "        [ 0.,  0.,  0.,  0.,  0.,  0.,  0.,  0.],\n",
        "        [ 0.,  0.,  0.,  0.,  0.,  0.,  0.,  0.],\n",
        "        [ 0.,  0.,  0.,  0.,  1.,  0.,  0.,  0.],\n",
        "        [ 0.,  0.,  0.,  0.,  0., -1.,  0.,  0.]],\n",
        "\n",
        "       [[ 0.,  0.,  0.,  0.,  0.,  0.,  0.,  0.],\n",
        "        [ 0.,  0.,  0.,  0.,  0.,  0.,  0.,  0.],\n",
        "        [ 0.,  0.,  0.,  0.,  0.,  0.,  0.,  0.],\n",
        "        [ 0.,  0.,  0.,  0.,  0.,  0.,  0.,  0.],\n",
        "        [ 1.,  0.,  0.,  0.,  0.,  0.,  0.,  0.],\n",
        "        [ 0., -1.,  0.,  0.,  0.,  0.,  0.,  0.],\n",
        "        [ 0.,  0., -1.,  0.,  0.,  0.,  0.,  0.],\n",
        "        [ 0.,  0.,  0.,  1.,  0.,  0.,  0.,  0.]]])"
       ]
      }
     ],
     "prompt_number": 9
    }
   ],
   "metadata": {}
  }
 ]
}