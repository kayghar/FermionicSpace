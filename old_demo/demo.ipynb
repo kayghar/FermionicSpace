{
 "metadata": {
  "name": "",
  "signature": "sha256:59b53ad5c1c4f0ae19bc54da8436593d8337c1df31f3aeb03ac51f7abf380099"
 },
 "nbformat": 3,
 "nbformat_minor": 0,
 "worksheets": [
  {
   "cells": [
    {
     "cell_type": "markdown",
     "metadata": {},
     "source": [
      "Import sympy and the FermionicSpace class."
     ]
    },
    {
     "cell_type": "code",
     "collapsed": false,
     "input": [
      "import sympy as sp\n",
      "from sympy.physics.quantum.dagger import Dagger\n",
      "from identical.spaces import FermionicSpace"
     ],
     "language": "python",
     "metadata": {},
     "outputs": [],
     "prompt_number": 1
    },
    {
     "cell_type": "markdown",
     "metadata": {},
     "source": [
      "Enable pretty printing. Requires MathJax to display the latex output inline in a browser."
     ]
    },
    {
     "cell_type": "code",
     "collapsed": false,
     "input": [
      "sp.init_printing(use_latex=True, wrap_line=True)"
     ],
     "language": "python",
     "metadata": {},
     "outputs": [],
     "prompt_number": 2
    },
    {
     "cell_type": "markdown",
     "metadata": {},
     "source": [
      "Define an instance of the FermionicSpace class. The argument specifies the number of fermionic modes in the space. Let us use 3 fermions as an example."
     ]
    },
    {
     "cell_type": "code",
     "collapsed": false,
     "input": [
      "h = FermionicSpace(1)"
     ],
     "language": "python",
     "metadata": {},
     "outputs": [],
     "prompt_number": 5
    },
    {
     "cell_type": "markdown",
     "metadata": {},
     "source": [
      "Get the (rather trivial) basis for this fermionic space as a list of column vectors."
     ]
    },
    {
     "cell_type": "code",
     "collapsed": false,
     "input": [
      "h.basis"
     ],
     "language": "python",
     "metadata": {},
     "outputs": [
      {
       "latex": [
        "$$\\left [ \\left[\\begin{matrix}0\\\\1\\end{matrix}\\right], \\quad \\left[\\begin{matrix}1\\\\0\\end{matrix}\\right]\\right ]$$"
       ],
       "metadata": {},
       "output_type": "pyout",
       "png": "[encoded data removed]",
       "prompt_number": 6,
       "text": [
        "\u23a1\u23a10\u23a4, \u23a11\u23a4\u23a4\n",
        "\u23a2\u23a2 \u23a5  \u23a2 \u23a5\u23a5\n",
        "\u23a3\u23a31\u23a6  \u23a30\u23a6\u23a6"
       ]
      }
     ],
     "prompt_number": 6
    },
    {
     "cell_type": "markdown",
     "metadata": {},
     "source": [
      "with the first (leftmost) state corresponding to the vacuum, and the last (rightmost) state to all 3 fermions occupied.\n",
      "\n",
      "There exists a 1-1 relationship (modulo phases) between these basis states and the occupation (Fock) states. Get the Fock basis, in the same order as h.basis, as a list of column vectors."
     ]
    },
    {
     "cell_type": "code",
     "collapsed": false,
     "input": [
      "h.fock_basis"
     ],
     "language": "python",
     "metadata": {},
     "outputs": [
      {
       "latex": [
        "$$\\left [ \\left[\\begin{matrix}0\\end{matrix}\\right], \\quad \\left[\\begin{matrix}1\\end{matrix}\\right]\\right ]$$"
       ],
       "metadata": {},
       "output_type": "pyout",
       "png": "[encoded data removed]",
       "prompt_number": 7,
       "text": [
        "[[0], [1]]"
       ]
      }
     ],
     "prompt_number": 7
    },
    {
     "cell_type": "markdown",
     "metadata": {},
     "source": [
      "Get the creation operators (c_i^\\dagger) as a list of matrices in the original h.basis"
     ]
    },
    {
     "cell_type": "code",
     "collapsed": false,
     "input": [
      "h.C"
     ],
     "language": "python",
     "metadata": {},
     "outputs": [
      {
       "latex": [
        "$$\\left [ \\left[\\begin{matrix}0 & 1 & 0 & 0 & 0 & 0 & 0 & 0\\\\0 & 0 & 0 & 0 & 0 & 0 & 0 & 0\\\\0 & 0 & 0 & 1 & 0 & 0 & 0 & 0\\\\0 & 0 & 0 & 0 & 0 & 0 & 0 & 0\\\\0 & 0 & 0 & 0 & 0 & 1 & 0 & 0\\\\0 & 0 & 0 & 0 & 0 & 0 & 0 & 0\\\\0 & 0 & 0 & 0 & 0 & 0 & 0 & 1\\\\0 & 0 & 0 & 0 & 0 & 0 & 0 & 0\\end{matrix}\\right], \\quad \\left[\\begin{matrix}0 & 0 & 1 & 0 & 0 & 0 & 0 & 0\\\\0 & 0 & 0 & -1 & 0 & 0 & 0 & 0\\\\0 & 0 & 0 & 0 & 0 & 0 & 0 & 0\\\\0 & 0 & 0 & 0 & 0 & 0 & 0 & 0\\\\0 & 0 & 0 & 0 & 0 & 0 & 1 & 0\\\\0 & 0 & 0 & 0 & 0 & 0 & 0 & -1\\\\0 & 0 & 0 & 0 & 0 & 0 & 0 & 0\\\\0 & 0 & 0 & 0 & 0 & 0 & 0 & 0\\end{matrix}\\right], \\quad \\left[\\begin{matrix}0 & 0 & 0 & 0 & 1 & 0 & 0 & 0\\\\0 & 0 & 0 & 0 & 0 & -1 & 0 & 0\\\\0 & 0 & 0 & 0 & 0 & 0 & -1 & 0\\\\0 & 0 & 0 & 0 & 0 & 0 & 0 & 1\\\\0 & 0 & 0 & 0 & 0 & 0 & 0 & 0\\\\0 & 0 & 0 & 0 & 0 & 0 & 0 & 0\\\\0 & 0 & 0 & 0 & 0 & 0 & 0 & 0\\\\0 & 0 & 0 & 0 & 0 & 0 & 0 & 0\\end{matrix}\\right]\\right ]$$"
       ],
       "metadata": {},
       "output_type": "pyout",
       "png": "[encoded data removed]",
       "prompt_number": 7,
       "text": [
        "\u23a1\u23a10  1  0  0  0  0  0  0\u23a4, \u23a10  0  1  0   0  0  0  0 \u23a4, \u23a10  0  0  0  1  0   0  \n",
        "\u23a2\u23a2                      \u23a5  \u23a2                        \u23a5  \u23a2                      \n",
        "\u23a2\u23a20  0  0  0  0  0  0  0\u23a5  \u23a20  0  0  -1  0  0  0  0 \u23a5  \u23a20  0  0  0  0  -1  0  \n",
        "\u23a2\u23a2                      \u23a5  \u23a2                        \u23a5  \u23a2                      \n",
        "\u23a2\u23a20  0  0  1  0  0  0  0\u23a5  \u23a20  0  0  0   0  0  0  0 \u23a5  \u23a20  0  0  0  0  0   -1 \n",
        "\u23a2\u23a2                      \u23a5  \u23a2                        \u23a5  \u23a2                      \n",
        "\u23a2\u23a20  0  0  0  0  0  0  0\u23a5  \u23a20  0  0  0   0  0  0  0 \u23a5  \u23a20  0  0  0  0  0   0  \n",
        "\u23a2\u23a2                      \u23a5  \u23a2                        \u23a5  \u23a2                      \n",
        "\u23a2\u23a20  0  0  0  0  1  0  0\u23a5  \u23a20  0  0  0   0  0  1  0 \u23a5  \u23a20  0  0  0  0  0   0  \n",
        "\u23a2\u23a2                      \u23a5  \u23a2                        \u23a5  \u23a2                      \n",
        "\u23a2\u23a20  0  0  0  0  0  0  0\u23a5  \u23a20  0  0  0   0  0  0  -1\u23a5  \u23a20  0  0  0  0  0   0  \n",
        "\u23a2\u23a2                      \u23a5  \u23a2                        \u23a5  \u23a2                      \n",
        "\u23a2\u23a20  0  0  0  0  0  0  1\u23a5  \u23a20  0  0  0   0  0  0  0 \u23a5  \u23a20  0  0  0  0  0   0  \n",
        "\u23a2\u23a2                      \u23a5  \u23a2                        \u23a5  \u23a2                      \n",
        "\u23a3\u23a30  0  0  0  0  0  0  0\u23a6  \u23a30  0  0  0   0  0  0  0 \u23a6  \u23a30  0  0  0  0  0   0  \n",
        "\n",
        " 0\u23a4\u23a4\n",
        "  \u23a5\u23a5\n",
        " 0\u23a5\u23a5\n",
        "  \u23a5\u23a5\n",
        " 0\u23a5\u23a5\n",
        "  \u23a5\u23a5\n",
        " 1\u23a5\u23a5\n",
        "  \u23a5\u23a5\n",
        " 0\u23a5\u23a5\n",
        "  \u23a5\u23a5\n",
        " 0\u23a5\u23a5\n",
        "  \u23a5\u23a5\n",
        " 0\u23a5\u23a5\n",
        "  \u23a5\u23a5\n",
        " 0\u23a6\u23a6"
       ]
      }
     ],
     "prompt_number": 7
    },
    {
     "cell_type": "markdown",
     "metadata": {},
     "source": [
      "And the annihilation operators"
     ]
    },
    {
     "cell_type": "code",
     "collapsed": false,
     "input": [
      "h.A"
     ],
     "language": "python",
     "metadata": {},
     "outputs": [
      {
       "latex": [
        "$$\\left [ \\left[\\begin{matrix}0 & 0 & 0 & 0 & 0 & 0 & 0 & 0\\\\1 & 0 & 0 & 0 & 0 & 0 & 0 & 0\\\\0 & 0 & 0 & 0 & 0 & 0 & 0 & 0\\\\0 & 0 & 1 & 0 & 0 & 0 & 0 & 0\\\\0 & 0 & 0 & 0 & 0 & 0 & 0 & 0\\\\0 & 0 & 0 & 0 & 1 & 0 & 0 & 0\\\\0 & 0 & 0 & 0 & 0 & 0 & 0 & 0\\\\0 & 0 & 0 & 0 & 0 & 0 & 1 & 0\\end{matrix}\\right], \\quad \\left[\\begin{matrix}0 & 0 & 0 & 0 & 0 & 0 & 0 & 0\\\\0 & 0 & 0 & 0 & 0 & 0 & 0 & 0\\\\1 & 0 & 0 & 0 & 0 & 0 & 0 & 0\\\\0 & -1 & 0 & 0 & 0 & 0 & 0 & 0\\\\0 & 0 & 0 & 0 & 0 & 0 & 0 & 0\\\\0 & 0 & 0 & 0 & 0 & 0 & 0 & 0\\\\0 & 0 & 0 & 0 & 1 & 0 & 0 & 0\\\\0 & 0 & 0 & 0 & 0 & -1 & 0 & 0\\end{matrix}\\right], \\quad \\left[\\begin{matrix}0 & 0 & 0 & 0 & 0 & 0 & 0 & 0\\\\0 & 0 & 0 & 0 & 0 & 0 & 0 & 0\\\\0 & 0 & 0 & 0 & 0 & 0 & 0 & 0\\\\0 & 0 & 0 & 0 & 0 & 0 & 0 & 0\\\\1 & 0 & 0 & 0 & 0 & 0 & 0 & 0\\\\0 & -1 & 0 & 0 & 0 & 0 & 0 & 0\\\\0 & 0 & -1 & 0 & 0 & 0 & 0 & 0\\\\0 & 0 & 0 & 1 & 0 & 0 & 0 & 0\\end{matrix}\\right]\\right ]$$"
       ],
       "metadata": {},
       "output_type": "pyout",
       "png": "[encoded data removed]",
       "prompt_number": 8,
       "text": [
        "\u23a1\u23a10  0  0  0  0  0  0  0\u23a4, \u23a10  0   0  0  0  0   0  0\u23a4, \u23a10  0   0   0  0  0  0 \n",
        "\u23a2\u23a2                      \u23a5  \u23a2                        \u23a5  \u23a2                      \n",
        "\u23a2\u23a21  0  0  0  0  0  0  0\u23a5  \u23a20  0   0  0  0  0   0  0\u23a5  \u23a20  0   0   0  0  0  0 \n",
        "\u23a2\u23a2                      \u23a5  \u23a2                        \u23a5  \u23a2                      \n",
        "\u23a2\u23a20  0  0  0  0  0  0  0\u23a5  \u23a21  0   0  0  0  0   0  0\u23a5  \u23a20  0   0   0  0  0  0 \n",
        "\u23a2\u23a2                      \u23a5  \u23a2                        \u23a5  \u23a2                      \n",
        "\u23a2\u23a20  0  1  0  0  0  0  0\u23a5  \u23a20  -1  0  0  0  0   0  0\u23a5  \u23a20  0   0   0  0  0  0 \n",
        "\u23a2\u23a2                      \u23a5  \u23a2                        \u23a5  \u23a2                      \n",
        "\u23a2\u23a20  0  0  0  0  0  0  0\u23a5  \u23a20  0   0  0  0  0   0  0\u23a5  \u23a21  0   0   0  0  0  0 \n",
        "\u23a2\u23a2                      \u23a5  \u23a2                        \u23a5  \u23a2                      \n",
        "\u23a2\u23a20  0  0  0  1  0  0  0\u23a5  \u23a20  0   0  0  0  0   0  0\u23a5  \u23a20  -1  0   0  0  0  0 \n",
        "\u23a2\u23a2                      \u23a5  \u23a2                        \u23a5  \u23a2                      \n",
        "\u23a2\u23a20  0  0  0  0  0  0  0\u23a5  \u23a20  0   0  0  1  0   0  0\u23a5  \u23a20  0   -1  0  0  0  0 \n",
        "\u23a2\u23a2                      \u23a5  \u23a2                        \u23a5  \u23a2                      \n",
        "\u23a3\u23a30  0  0  0  0  0  1  0\u23a6  \u23a30  0   0  0  0  -1  0  0\u23a6  \u23a30  0   0   1  0  0  0 \n",
        "\n",
        " 0\u23a4\u23a4\n",
        "  \u23a5\u23a5\n",
        " 0\u23a5\u23a5\n",
        "  \u23a5\u23a5\n",
        " 0\u23a5\u23a5\n",
        "  \u23a5\u23a5\n",
        " 0\u23a5\u23a5\n",
        "  \u23a5\u23a5\n",
        " 0\u23a5\u23a5\n",
        "  \u23a5\u23a5\n",
        " 0\u23a5\u23a5\n",
        "  \u23a5\u23a5\n",
        " 0\u23a5\u23a5\n",
        "  \u23a5\u23a5\n",
        " 0\u23a6\u23a6"
       ]
      }
     ],
     "prompt_number": 8
    },
    {
     "cell_type": "markdown",
     "metadata": {},
     "source": [
      "Create a fermion in the zeroth mode by applying the relevant creation operator on the vacuum state."
     ]
    },
    {
     "cell_type": "code",
     "collapsed": false,
     "input": [
      "vac = h.vac\n",
      "s0 = h.C[0]*vac\n",
      "s0"
     ],
     "language": "python",
     "metadata": {},
     "outputs": [
      {
       "latex": [
        "$$\\left[\\begin{matrix}0\\\\0\\\\0\\\\0\\\\0\\\\0\\\\1\\\\0\\end{matrix}\\right]$$"
       ],
       "metadata": {},
       "output_type": "pyout",
       "png": "[encoded data removed]",
       "prompt_number": 9,
       "text": [
        "\u23a10\u23a4\n",
        "\u23a2 \u23a5\n",
        "\u23a20\u23a5\n",
        "\u23a2 \u23a5\n",
        "\u23a20\u23a5\n",
        "\u23a2 \u23a5\n",
        "\u23a20\u23a5\n",
        "\u23a2 \u23a5\n",
        "\u23a20\u23a5\n",
        "\u23a2 \u23a5\n",
        "\u23a20\u23a5\n",
        "\u23a2 \u23a5\n",
        "\u23a21\u23a5\n",
        "\u23a2 \u23a5\n",
        "\u23a30\u23a6"
       ]
      }
     ],
     "prompt_number": 9
    },
    {
     "cell_type": "markdown",
     "metadata": {},
     "source": [
      "Project the state s0 back onto the Fock basis (#FIXME: does NOT work for superpositions Fock state right now.)"
     ]
    },
    {
     "cell_type": "code",
     "collapsed": false,
     "input": [
      "h.get_occupations(s0)"
     ],
     "language": "python",
     "metadata": {},
     "outputs": [
      {
       "latex": [
        "$$\\left ( \\left [ \\left[\\begin{matrix}1\\\\0\\\\0\\end{matrix}\\right]\\right ], \\quad \\left [ 1\\right ]\\right )$$"
       ],
       "metadata": {},
       "output_type": "pyout",
       "png": "[encoded data removed]",
       "prompt_number": 11,
       "text": [
        "\u239b\u23a1\u23a11\u23a4\u23a4, [1]\u239e\n",
        "\u239c\u23a2\u23a2 \u23a5\u23a5     \u239f\n",
        "\u239c\u23a2\u23a20\u23a5\u23a5     \u239f\n",
        "\u239c\u23a2\u23a2 \u23a5\u23a5     \u239f\n",
        "\u239d\u23a3\u23a30\u23a6\u23a6     \u23a0"
       ]
      }
     ],
     "prompt_number": 11
    },
    {
     "cell_type": "markdown",
     "metadata": {},
     "source": [
      "Create a tunnelling hamiltonian between modes 0, 1. (A la Flensberg, PRL 106, 090503 (2011))"
     ]
    },
    {
     "cell_type": "code",
     "collapsed": false,
     "input": [
      "nu = sp.symbols('nu', is_complex=True)\n",
      "nubar = sp.conjugate (nu)\n",
      "h_tunnel = (nu*h.C[0] - nubar*h.A[0])*(h.C[1] + h.A[1])\n",
      "h_tunnel"
     ],
     "language": "python",
     "metadata": {},
     "outputs": [
      {
       "latex": [
        "$$\\left[\\begin{matrix}0 & 0 & 0 & - \\nu & 0 & 0 & 0 & 0\\\\0 & 0 & - \\overline{\\nu} & 0 & 0 & 0 & 0 & 0\\\\0 & - \\nu & 0 & 0 & 0 & 0 & 0 & 0\\\\- \\overline{\\nu} & 0 & 0 & 0 & 0 & 0 & 0 & 0\\\\0 & 0 & 0 & 0 & 0 & 0 & 0 & - \\nu\\\\0 & 0 & 0 & 0 & 0 & 0 & - \\overline{\\nu} & 0\\\\0 & 0 & 0 & 0 & 0 & - \\nu & 0 & 0\\\\0 & 0 & 0 & 0 & - \\overline{\\nu} & 0 & 0 & 0\\end{matrix}\\right]$$"
       ],
       "metadata": {},
       "output_type": "pyout",
       "png": "[encoded data removed]",
       "prompt_number": 13,
       "text": [
        "\u23a10   0   0   -\u03bd  0   0   0   0 \u23a4\n",
        "\u23a2                              \u23a5\n",
        "\u23a2         _                    \u23a5\n",
        "\u23a20   0   -\u03bd  0   0   0   0   0 \u23a5\n",
        "\u23a2                              \u23a5\n",
        "\u23a20   -\u03bd  0   0   0   0   0   0 \u23a5\n",
        "\u23a2                              \u23a5\n",
        "\u23a2 _                            \u23a5\n",
        "\u23a2-\u03bd  0   0   0   0   0   0   0 \u23a5\n",
        "\u23a2                              \u23a5\n",
        "\u23a20   0   0   0   0   0   0   -\u03bd\u23a5\n",
        "\u23a2                              \u23a5\n",
        "\u23a2                         _    \u23a5\n",
        "\u23a20   0   0   0   0   0   -\u03bd  0 \u23a5\n",
        "\u23a2                              \u23a5\n",
        "\u23a20   0   0   0   0   -\u03bd  0   0 \u23a5\n",
        "\u23a2                              \u23a5\n",
        "\u23a2                 _            \u23a5\n",
        "\u23a30   0   0   0   -\u03bd  0   0   0 \u23a6"
       ]
      }
     ],
     "prompt_number": 13
    },
    {
     "cell_type": "markdown",
     "metadata": {},
     "source": [
      "The hamiltonian is obviously hermitian, but we can double check"
     ]
    },
    {
     "cell_type": "code",
     "collapsed": false,
     "input": [
      "h_tunnel - Dagger (h_tunnel)"
     ],
     "language": "python",
     "metadata": {},
     "outputs": [
      {
       "latex": [
        "$$\\left[\\begin{matrix}0 & 0 & 0 & 0 & 0 & 0 & 0 & 0\\\\0 & 0 & 0 & 0 & 0 & 0 & 0 & 0\\\\0 & 0 & 0 & 0 & 0 & 0 & 0 & 0\\\\0 & 0 & 0 & 0 & 0 & 0 & 0 & 0\\\\0 & 0 & 0 & 0 & 0 & 0 & 0 & 0\\\\0 & 0 & 0 & 0 & 0 & 0 & 0 & 0\\\\0 & 0 & 0 & 0 & 0 & 0 & 0 & 0\\\\0 & 0 & 0 & 0 & 0 & 0 & 0 & 0\\end{matrix}\\right]$$"
       ],
       "metadata": {},
       "output_type": "pyout",
       "png": "[encoded data removed]",
       "prompt_number": 14,
       "text": [
        "\u23a10  0  0  0  0  0  0  0\u23a4\n",
        "\u23a2                      \u23a5\n",
        "\u23a20  0  0  0  0  0  0  0\u23a5\n",
        "\u23a2                      \u23a5\n",
        "\u23a20  0  0  0  0  0  0  0\u23a5\n",
        "\u23a2                      \u23a5\n",
        "\u23a20  0  0  0  0  0  0  0\u23a5\n",
        "\u23a2                      \u23a5\n",
        "\u23a20  0  0  0  0  0  0  0\u23a5\n",
        "\u23a2                      \u23a5\n",
        "\u23a20  0  0  0  0  0  0  0\u23a5\n",
        "\u23a2                      \u23a5\n",
        "\u23a20  0  0  0  0  0  0  0\u23a5\n",
        "\u23a2                      \u23a5\n",
        "\u23a30  0  0  0  0  0  0  0\u23a6"
       ]
      }
     ],
     "prompt_number": 14
    },
    {
     "cell_type": "markdown",
     "metadata": {},
     "source": [
      "Create a fock state. Show the real-space (Slater determinant) representation of this state (#FIXME: Not sure if slater works for superpositions of Fock states)"
     ]
    },
    {
     "cell_type": "code",
     "collapsed": false,
     "input": [
      "s1 = h.add_fock_state([1,0,0])\n",
      "h.print_slater(s1)"
     ],
     "language": "python",
     "metadata": {},
     "outputs": [
      {
       "latex": [
        "$$\\phi_{1}$$"
       ],
       "metadata": {},
       "output_type": "pyout",
       "png": "[encoded data removed]",
       "prompt_number": 18,
       "text": [
        "\u03c6\u2081"
       ]
      }
     ],
     "prompt_number": 18
    },
    {
     "cell_type": "markdown",
     "metadata": {},
     "source": [
      "Similarly, the anit-symmetric wavefunctions of 2, 3 fermions:"
     ]
    },
    {
     "cell_type": "code",
     "collapsed": false,
     "input": [
      "s2 = h.add_fock_state([1,1,0])\n",
      "h.print_slater(s2)"
     ],
     "language": "python",
     "metadata": {},
     "outputs": [
      {
       "latex": [
        "$$- \\frac{\\sqrt{2}}{2} \\left(\\phi_{1} \\phi_{2} - \\phi_{2} \\phi_{1}\\right)$$"
       ],
       "metadata": {},
       "output_type": "pyout",
       "png": "[encoded data removed]",
       "prompt_number": 19,
       "text": [
        "   ___                 \n",
        "-\u2572\u2571 2 \u22c5(\u03c6\u2081\u22c5\u03c6\u2082 - \u03c6\u2082\u22c5\u03c6\u2081) \n",
        "\u2500\u2500\u2500\u2500\u2500\u2500\u2500\u2500\u2500\u2500\u2500\u2500\u2500\u2500\u2500\u2500\u2500\u2500\u2500\u2500\u2500\u2500\u2500\n",
        "           2           "
       ]
      }
     ],
     "prompt_number": 19
    },
    {
     "cell_type": "code",
     "collapsed": false,
     "input": [
      "s3 = h.add_fock_state([1,1,1])\n",
      "h.print_slater(s3)"
     ],
     "language": "python",
     "metadata": {},
     "outputs": [
      {
       "latex": [
        "$$- \\frac{\\sqrt{3}}{3} \\left(\\phi_{1} \\phi_{2} \\phi_{3} - \\phi_{1} \\phi_{3} \\phi_{2} - \\phi_{2} \\phi_{1} \\phi_{3} + \\phi_{2} \\phi_{3} \\phi_{1} + \\phi_{3} \\phi_{1} \\phi_{2} - \\phi_{3} \\phi_{2} \\phi_{1}\\right)$$"
       ],
       "metadata": {},
       "output_type": "pyout",
       "png": "[encoded data removed]",
       "prompt_number": 20,
       "text": [
        "   ___                                                                   \n",
        "-\u2572\u2571 3 \u22c5(\u03c6\u2081\u22c5\u03c6\u2082\u22c5\u03c6\u2083 - \u03c6\u2081\u22c5\u03c6\u2083\u22c5\u03c6\u2082 - \u03c6\u2082\u22c5\u03c6\u2081\u22c5\u03c6\u2083 + \u03c6\u2082\u22c5\u03c6\u2083\u22c5\u03c6\u2081 + \u03c6\u2083\u22c5\u03c6\u2081\u22c5\u03c6\u2082 - \u03c6\u2083\u22c5\u03c6\u2082\u22c5\u03c6\u2081) \n",
        "\u2500\u2500\u2500\u2500\u2500\u2500\u2500\u2500\u2500\u2500\u2500\u2500\u2500\u2500\u2500\u2500\u2500\u2500\u2500\u2500\u2500\u2500\u2500\u2500\u2500\u2500\u2500\u2500\u2500\u2500\u2500\u2500\u2500\u2500\u2500\u2500\u2500\u2500\u2500\u2500\u2500\u2500\u2500\u2500\u2500\u2500\u2500\u2500\u2500\u2500\u2500\u2500\u2500\u2500\u2500\u2500\u2500\u2500\u2500\u2500\u2500\u2500\u2500\u2500\u2500\u2500\u2500\u2500\u2500\u2500\u2500\u2500\u2500\n",
        "                                    3                                    "
       ]
      }
     ],
     "prompt_number": 20
    }
   ],
   "metadata": {}
  }
 ]
}